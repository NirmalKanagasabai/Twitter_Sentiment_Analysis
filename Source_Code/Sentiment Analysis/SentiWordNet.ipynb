{
 "cells": [
  {
   "cell_type": "code",
   "execution_count": null,
   "metadata": {
    "collapsed": true
   },
   "outputs": [],
   "source": [
    "import re\n",
    "import nltk\n",
    "import pandas as pd\n",
    "from nltk.corpus import wordnet as wordnet\n",
    "from nltk.corpus import sentiwordnet as swn\n",
    "from nltk.corpus import stopwords"
   ]
  },
  {
   "cell_type": "code",
   "execution_count": null,
   "metadata": {
    "collapsed": true
   },
   "outputs": [],
   "source": [
    "def tweet_to_words(raw_tweet):\n",
    "    \n",
    "    raw_tweet = re.sub(\"@\\w+\",\"\",raw_tweet).strip()\n",
    "    raw_tweet = re.sub(\"http\\S+\",\"\",raw_tweet).strip()\n",
    "    letters_only = re.sub(\"[^a-zA-Z]\", \" \",raw_tweet) \n",
    "    words = letters_only.lower().split()                             \n",
    "    stops = set(stopwords.words(\"english\"))                  \n",
    "    meaningful_words = [w for w in words if not w in stops] \n",
    "    return( \" \".join( meaningful_words )) "
   ]
  },
  {
   "cell_type": "code",
   "execution_count": null,
   "metadata": {
    "collapsed": true
   },
   "outputs": [],
   "source": [
    "def wordnet_pos_code(tag):\n",
    "\n",
    "    if tag.startswith('NN'):\n",
    "        return wordnet.NOUN\n",
    "    elif tag.startswith('VB'):\n",
    "        return wordnet.VERB\n",
    "    elif tag.startswith('JJ'):\n",
    "        return wordnet.ADJ\n",
    "    elif tag.startswith('RB'):\n",
    "        return wordnet.ADV\n",
    "    else:\n",
    "        return ''"
   ]
  },
  {
   "cell_type": "code",
   "execution_count": null,
   "metadata": {
    "collapsed": true
   },
   "outputs": [],
   "source": [
    "def pos_tag(sentence):\n",
    "\n",
    "    tagged_words = []\n",
    "    tokens = nltk.word_tokenize(sentence)\n",
    "    tag_tuples = nltk.pos_tag(tokens)\n",
    "    for (string, tag) in tag_tuples:\n",
    "        token = {'word':string, 'pos':tag}            \n",
    "        tagged_words.append(token)    \n",
    "    return tagged_words"
   ]
  },
  {
   "cell_type": "code",
   "execution_count": null,
   "metadata": {
    "collapsed": true
   },
   "outputs": [],
   "source": []
  },
  {
   "cell_type": "code",
   "execution_count": null,
   "metadata": {
    "collapsed": true
   },
   "outputs": [],
   "source": [
    "def word_sense_similarity(word, context, dummy = None):\n",
    "\n",
    "    wordsynsets = wordnet.synsets(word)\n",
    "    bestScore = 0.0\n",
    "    result = None\n",
    "    for synset in wordsynsets:\n",
    "        for w in nltk.word_tokenize(context):\n",
    "            score = 0.0\n",
    "            for wsynset in wordnet.synsets(w):\n",
    "                sim = wordnet.path_similarity(wsynset, synset)\n",
    "                if(sim == None):\n",
    "                    continue\n",
    "                else:\n",
    "                    score += sim\n",
    "            if (score > bestScore):\n",
    "                bestScore = score\n",
    "                result = synset\n",
    "    return result"
   ]
  },
  {
   "cell_type": "code",
   "execution_count": null,
   "metadata": {
    "collapsed": true
   },
   "outputs": [],
   "source": [
    "def sentiwordnet_classify(text):\n",
    "\n",
    "    score_tot = 0\n",
    "    score_tot_thr = 0\n",
    "    class_tot = 0\n",
    "    class_tot_thr = 0\n",
    "    sentences = nltk.sent_tokenize(text)\n",
    "    for sentence in sentences:\n",
    "        (score, score_thr) = sentence_score(sentence)\n",
    "        score_tot += score\n",
    "        score_tot_thr += score_thr\n",
    " \n",
    "    #Trust the thresholded value more when classifying\n",
    "    if score_tot_thr != 0:\n",
    "        clss = 'Positive' if score_tot_thr > 0 else 'Negative'\n",
    "    elif score_tot != 0:\n",
    "        clss = 'Positive' if score_tot > 0 else 'Negative'\n",
    "    else:\n",
    "        clss = 'Neutral'\n",
    "    return clss"
   ]
  },
  {
   "cell_type": "code",
   "execution_count": null,
   "metadata": {
    "collapsed": true
   },
   "outputs": [],
   "source": [
    "def sentence_score(text, threshold = 0.75, wsd = word_sense_cdf):\n",
    "\n",
    "    tagged_words = pos_tag(text)\n",
    " \n",
    "    obj_score = 0 # object score \n",
    "    pos_score=0 # positive score\n",
    "    neg_score=0 #negative score\n",
    "    pos_score_thr=0\n",
    "    neg_score_thr=0\n",
    " \n",
    "    for word in tagged_words:\n",
    "    #     print word\n",
    "        if 'punct' not in word :\n",
    "            sense = wsd(word['word'], text, wordnet_pos_code(word['pos']))\n",
    "            if sense is not None:\n",
    "                sent = swn.senti_synset(sense.name())\n",
    "                if sent is not None and sent.obj_score() <> 1:\n",
    "                    obj_score = obj_score + float(sent.obj_score())\n",
    "                    pos_score = pos_score + float(sent.pos_score())\n",
    "                    neg_score = neg_score + float(sent.neg_score())\n",
    "                    if sent.obj_score() < threshold:\n",
    "                        pos_score_thr = pos_score_thr + float(sent.pos_score())\n",
    "                        neg_score_thr = neg_score_thr + float(sent.neg_score())\n",
    " \n",
    "    return (pos_score - neg_score, pos_score_thr - neg_score_thr)"
   ]
  },
  {
   "cell_type": "code",
   "execution_count": null,
   "metadata": {
    "collapsed": true
   },
   "outputs": [],
   "source": [
    "t_data = pd.read_csv(\"Tweets.csv\") #Weather.csv #Strangers_Things.csv\n",
    "texts = t_data['text']"
   ]
  },
  {
   "cell_type": "code",
   "execution_count": null,
   "metadata": {},
   "outputs": [],
   "source": [
    "tweet = []\n",
    "for text in texts:\n",
    "    tweet.append(tweet_to_words(text))"
   ]
  },
  {
   "cell_type": "raw",
   "metadata": {},
   "source": [
    "x = 0\n",
    "for x in range (0, 14641): #Size of the document\n",
    "    print sentiwordnet_classify(tweet[x])"
   ]
  },
  {
   "cell_type": "code",
   "execution_count": null,
   "metadata": {},
   "outputs": [],
   "source": []
  },
  {
   "cell_type": "code",
   "execution_count": null,
   "metadata": {},
   "outputs": [],
   "source": []
  },
  {
   "cell_type": "code",
   "execution_count": null,
   "metadata": {},
   "outputs": [],
   "source": []
  },
  {
   "cell_type": "code",
   "execution_count": null,
   "metadata": {
    "collapsed": true
   },
   "outputs": [],
   "source": []
  },
  {
   "cell_type": "code",
   "execution_count": null,
   "metadata": {},
   "outputs": [],
   "source": []
  },
  {
   "cell_type": "code",
   "execution_count": null,
   "metadata": {},
   "outputs": [],
   "source": []
  },
  {
   "cell_type": "code",
   "execution_count": null,
   "metadata": {},
   "outputs": [],
   "source": []
  },
  {
   "cell_type": "code",
   "execution_count": null,
   "metadata": {},
   "outputs": [],
   "source": []
  },
  {
   "cell_type": "code",
   "execution_count": null,
   "metadata": {},
   "outputs": [],
   "source": []
  },
  {
   "cell_type": "code",
   "execution_count": null,
   "metadata": {
    "collapsed": true
   },
   "outputs": [],
   "source": []
  },
  {
   "cell_type": "code",
   "execution_count": null,
   "metadata": {},
   "outputs": [],
   "source": []
  },
  {
   "cell_type": "code",
   "execution_count": null,
   "metadata": {
    "collapsed": true
   },
   "outputs": [],
   "source": []
  }
 ],
 "metadata": {
  "kernelspec": {
   "display_name": "Python 2",
   "language": "python",
   "name": "python2"
  },
  "language_info": {
   "codemirror_mode": {
    "name": "ipython",
    "version": 2
   },
   "file_extension": ".py",
   "mimetype": "text/x-python",
   "name": "python",
   "nbconvert_exporter": "python",
   "pygments_lexer": "ipython2",
   "version": "2.7.13"
  }
 },
 "nbformat": 4,
 "nbformat_minor": 2
}
